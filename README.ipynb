{
 "cells": [
  {
   "cell_type": "code",
   "execution_count": null,
   "metadata": {},
   "outputs": [],
   "source": [
    "from pathlib import Path\n",
    "import sys; sys.path.insert(0, str(Path('src').absolute()))\n",
    "import os\n",
    "print(os.getcwd())\n",
    "print(sys.path)\n",
    "import cachew; print(cachew.__file__)"
   ]
  },
  {
   "cell_type": "code",
   "execution_count": null,
   "metadata": {},
   "outputs": [],
   "source": [
    "import cachew.tests"
   ]
  },
  {
   "cell_type": "code",
   "execution_count": null,
   "metadata": {},
   "outputs": [],
   "source": [
    "import cachew.tests.test_cachew as tests\n",
    "from IPython.display import Markdown as md"
   ]
  },
  {
   "cell_type": "code",
   "execution_count": null,
   "metadata": {},
   "outputs": [],
   "source": [
    "# dir(tests.test_nested)\n",
    "import inspect\n",
    "def flink(title: str, fname: str):\n",
    "    test = getattr(tests, fname)\n",
    "    file = Path(inspect.getsourcefile(test)).relative_to(os.getcwd())\n",
    "    _, number = inspect.getsourcelines(tests.test_nested)\n",
    "    return f'[{title}]({file}:{number})'"
   ]
  },
  {
   "cell_type": "code",
   "execution_count": null,
   "metadata": {},
   "outputs": [],
   "source": [
    "types = [f'`{c.__name__}`' for c in cachew.PRIMITIVES.keys()]\n",
    "display(md('Supported primitive types:' + ', '.join(types)))\n",
    "display(md(f\"\"\"\n",
    "* supports {flink('nested datatypes', 'test_nested')}\n",
    "* supports return type inference: {flink('1', 'test_return_type_inference')}, {flink('2', 'test_return_type_mismatch')}\n",
    "* supports Optional\n",
    "* detects {flink('datatype schema changes', 'test_schema_change')} and discards old data automatically            \n",
    "\"\"\"))"
   ]
  },
  {
   "cell_type": "markdown",
   "metadata": {},
   "source": [
    "* supports nested NamedTuples\n",
    "* supports datetime\n",
    "* supports  Optional\n",
    "* detects schema changes and discards old data automatically \n",
    "* custom hash function TODO example with mtime?\n"
   ]
  }
 ],
 "metadata": {
  "kernelspec": {
   "display_name": "Python 3",
   "language": "python",
   "name": "python3"
  },
  "language_info": {
   "codemirror_mode": {
    "name": "ipython",
    "version": 3
   },
   "file_extension": ".py",
   "mimetype": "text/x-python",
   "name": "python",
   "nbconvert_exporter": "python",
   "pygments_lexer": "ipython3",
   "version": "3.7.3"
  }
 },
 "nbformat": 4,
 "nbformat_minor": 2
}
